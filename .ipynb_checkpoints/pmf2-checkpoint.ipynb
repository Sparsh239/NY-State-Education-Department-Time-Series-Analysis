{
 "cells": [
  {
   "cell_type": "code",
   "execution_count": 43,
   "metadata": {},
   "outputs": [],
   "source": [
    "import pandas as pd\n",
    "#cr19 = pd.read_stata('PMF/FINAL_CRSE_INSTR_2019_ONLY.dta')\n",
    "#cr20 = pd.read_stata('PMF/FINAL_CRSE_INSTR_2020_ONLY.dta')\n",
    "\n",
    "# Import\n",
    "staff = pd.read_stata('PMF/FINAL_STAFFSNAP_2019_2020_BIRTH_YEAR.dta')\n",
    "\n",
    "# Drop NA\n",
    "staff = staff.dropna()\n",
    "#staff = staff[['school_year','staff_birth_year','researcher_id','years_teaching','race1_long_desc','hispanic_ind']]\n",
    "staff['school_year'] = staff['school_year'].str.extract('(\\d\\d\\d\\d$)')\n",
    "\n",
    "# Working in 2019\n",
    "staff19 = staff[staff['school_year']=='2019'].drop_duplicates(subset='researcher_id')\n",
    "\n",
    "# Working in 2020\n",
    "staff20 = staff[staff['school_year']=='2020'][['school_year','researcher_id']].drop_duplicates()\n",
    "\n",
    "# Merge\n",
    "staff1920 = staff19.merge(staff20, on='researcher_id',how='outer',indicator=True)\n",
    "\n",
    "# Drop entries that are in 2020 only & unneeded columns\n",
    "staff1920 = staff1920[staff1920['_merge']!='right_only'].rename(columns={'_merge':'cont_2020'}).drop(columns=['school_year_x','school_year_y'])\n",
    "staff1920['cont_2020'] = staff1920['cont_2020'].str.replace('both','1').str.replace('left_only','0')\n",
    "\n",
    "# Turn Years of Teaching into Categories\n",
    "staff1920['exp_group'] = pd.cut(staff1920[staff1920['years_teaching']<=40]['years_teaching'],bins=8, labels=['0-5','6-10','11-15','16-20','21-25','26-30','31-35','36-40'])\n",
    "staff1920['exp_group'] = staff1920['exp_group'].cat.add_categories(['40+'])\n",
    "staff1920['exp_group'] = staff1920['exp_group'].fillna('40+')\n",
    "\n",
    "# Turn Experience Group into Dummy Variables\n",
    "pd.get_dummies(staff1920, columns=['exp_group'], prefix='exp').to_stata('20200921_turnover.dta',write_index=False)"
   ]
  },
  {
   "cell_type": "code",
   "execution_count": 60,
   "metadata": {
    "tags": []
   },
   "outputs": [],
   "source": [
    "staff_19 = staff[staff['school_year']=='2019']\n",
    "staff_20 = staff[staff['school_year']=='2020'][['state_district_id','researcher_id']]\n",
    "\n",
    "staff_1920 = staff_19.merge(staff_20, on=['state_district_id','researcher_id'],how='outer',indicator=True)\n",
    "staff_1920 = staff_1920[staff_1920['_merge']!='right_only'].rename(columns={'_merge':'cont_2020'})\n",
    "staff_1920['cont_2020'] = staff_1920['cont_2020'].str.replace('both','1').str.replace('left_only','0')\n",
    "staff_1920['cont_2020'] = staff_1920['cont_2020'].astype(int)\n",
    "\n",
    "dist_turn = staff_1920[['state_district_id','cont_2020']].groupby(by='state_district_id').count().reset_index()\n",
    "dist_turn = dist_turn.merge(staff_1920[['state_district_id','cont_2020']].groupby(by='state_district_id').sum().reset_index(), on='state_district_id')\n",
    "dist_turn['retention'] = dist_turn['cont_2020_y'] / dist_turn['cont_2020_x']\n",
    "\n",
    "dist_turn.to_csv('20200921_district_retention.csv',index=False)"
   ]
  },
  {
   "cell_type": "code",
   "execution_count": 75,
   "metadata": {
    "tags": []
   },
   "outputs": [],
   "source": [
    "#staff_1920[['district_name','cont_2020']].groupby(by='district_name').count()\n",
    "\n"
   ]
  },
  {
   "cell_type": "code",
   "execution_count": 54,
   "metadata": {},
   "outputs": [
    {
     "data": {
      "text/plain": [
       "000798796411280    5\n",
       "000007530428230    5\n",
       "000309694586082    4\n",
       "000044043092975    4\n",
       "000214791068330    4\n",
       "                  ..\n",
       "000056037128125    1\n",
       "000657519287150    1\n",
       "000064243868640    1\n",
       "000790107796296    1\n",
       "000464909157120    1\n",
       "Name: researcher_id, Length: 296200, dtype: int64"
      ]
     },
     "execution_count": 54,
     "metadata": {},
     "output_type": "execute_result"
    }
   ],
   "source": [
    "staff[staff['school_year']=='2020']['researcher_id'].value_counts()\n",
    "#staff[staff['researcher_id'] == '000007530428230']"
   ]
  },
  {
   "cell_type": "code",
   "execution_count": null,
   "metadata": {},
   "outputs": [],
   "source": []
  }
 ],
 "metadata": {
  "kernelspec": {
   "display_name": "Python 3",
   "language": "python",
   "name": "python3"
  },
  "language_info": {
   "codemirror_mode": {
    "name": "ipython",
    "version": 3
   },
   "file_extension": ".py",
   "mimetype": "text/x-python",
   "name": "python",
   "nbconvert_exporter": "python",
   "pygments_lexer": "ipython3",
   "version": "3.7.6"
  }
 },
 "nbformat": 4,
 "nbformat_minor": 2
}
